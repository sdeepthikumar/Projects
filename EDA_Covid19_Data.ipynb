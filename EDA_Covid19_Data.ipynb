{
 "cells": [
  {
   "cell_type": "code",
   "execution_count": 2,
   "metadata": {},
   "outputs": [],
   "source": [
    "import pandas as pd"
   ]
  },
  {
   "cell_type": "code",
   "execution_count": 3,
   "metadata": {},
   "outputs": [],
   "source": [
    "covid_data = pd.read_csv('https://raw.githubusercontent.com/SR1608/Datasets/main/covid-data.csv')"
   ]
  },
  {
   "cell_type": "code",
   "execution_count": 4,
   "metadata": {},
   "outputs": [
    {
     "data": {
      "text/plain": [
       "(57394, 49)"
      ]
     },
     "execution_count": 4,
     "metadata": {},
     "output_type": "execute_result"
    }
   ],
   "source": [
    "covid_data.shape"
   ]
  },
  {
   "cell_type": "code",
   "execution_count": 5,
   "metadata": {},
   "outputs": [
    {
     "name": "stdout",
     "output_type": "stream",
     "text": [
      "<class 'pandas.core.frame.DataFrame'>\n",
      "RangeIndex: 57394 entries, 0 to 57393\n",
      "Data columns (total 49 columns):\n",
      " #   Column                              Non-Null Count  Dtype  \n",
      "---  ------                              --------------  -----  \n",
      " 0   iso_code                            57071 non-null  object \n",
      " 1   continent                           56748 non-null  object \n",
      " 2   location                            57394 non-null  object \n",
      " 3   date                                57394 non-null  object \n",
      " 4   total_cases                         53758 non-null  float64\n",
      " 5   new_cases                           56465 non-null  float64\n",
      " 6   new_cases_smoothed                  55652 non-null  float64\n",
      " 7   total_deaths                        44368 non-null  float64\n",
      " 8   new_deaths                          56465 non-null  float64\n",
      " 9   new_deaths_smoothed                 55652 non-null  float64\n",
      " 10  total_cases_per_million             53471 non-null  float64\n",
      " 11  new_cases_per_million               56401 non-null  float64\n",
      " 12  new_cases_smoothed_per_million      55587 non-null  float64\n",
      " 13  total_deaths_per_million            44096 non-null  float64\n",
      " 14  new_deaths_per_million              56401 non-null  float64\n",
      " 15  new_deaths_smoothed_per_million     55587 non-null  float64\n",
      " 16  reproduction_rate                   37696 non-null  float64\n",
      " 17  icu_patients                        4490 non-null   float64\n",
      " 18  icu_patients_per_million            4490 non-null   float64\n",
      " 19  hosp_patients                       5005 non-null   float64\n",
      " 20  hosp_patients_per_million           5005 non-null   float64\n",
      " 21  weekly_icu_admissions               357 non-null    float64\n",
      " 22  weekly_icu_admissions_per_million   357 non-null    float64\n",
      " 23  weekly_hosp_admissions              645 non-null    float64\n",
      " 24  weekly_hosp_admissions_per_million  645 non-null    float64\n",
      " 25  total_tests                         22017 non-null  float64\n",
      " 26  new_tests                           21787 non-null  float64\n",
      " 27  total_tests_per_thousand            22017 non-null  float64\n",
      " 28  new_tests_per_thousand              21787 non-null  float64\n",
      " 29  new_tests_smoothed                  24612 non-null  float64\n",
      " 30  new_tests_smoothed_per_thousand     24612 non-null  float64\n",
      " 31  tests_per_case                      22802 non-null  float64\n",
      " 32  positive_rate                       23211 non-null  float64\n",
      " 33  stringency_index                    47847 non-null  float64\n",
      " 34  population                          57071 non-null  float64\n",
      " 35  population_density                  54371 non-null  float64\n",
      " 36  median_age                          51034 non-null  float64\n",
      " 37  aged_65_older                       50265 non-null  float64\n",
      " 38  aged_70_older                       50768 non-null  float64\n",
      " 39  gdp_per_capita                      50367 non-null  float64\n",
      " 40  extreme_poverty                     33571 non-null  float64\n",
      " 41  cardiovasc_death_rate               51013 non-null  float64\n",
      " 42  diabetes_prevalence                 52881 non-null  float64\n",
      " 43  female_smokers                      39669 non-null  float64\n",
      " 44  male_smokers                        39156 non-null  float64\n",
      " 45  handwashing_facilities              24176 non-null  float64\n",
      " 46  hospital_beds_per_thousand          45936 non-null  float64\n",
      " 47  life_expectancy                     56336 non-null  float64\n",
      " 48  human_development_index             49247 non-null  float64\n",
      "dtypes: float64(45), object(4)\n",
      "memory usage: 21.5+ MB\n"
     ]
    }
   ],
   "source": [
    "covid_data.info()"
   ]
  },
  {
   "cell_type": "code",
   "execution_count": 6,
   "metadata": {},
   "outputs": [
    {
     "data": {
      "text/html": [
       "<div>\n",
       "<style scoped>\n",
       "    .dataframe tbody tr th:only-of-type {\n",
       "        vertical-align: middle;\n",
       "    }\n",
       "\n",
       "    .dataframe tbody tr th {\n",
       "        vertical-align: top;\n",
       "    }\n",
       "\n",
       "    .dataframe thead th {\n",
       "        text-align: right;\n",
       "    }\n",
       "</style>\n",
       "<table border=\"1\" class=\"dataframe\">\n",
       "  <thead>\n",
       "    <tr style=\"text-align: right;\">\n",
       "      <th></th>\n",
       "      <th>iso_code</th>\n",
       "      <th>continent</th>\n",
       "      <th>location</th>\n",
       "      <th>date</th>\n",
       "      <th>total_cases</th>\n",
       "      <th>new_cases</th>\n",
       "      <th>new_cases_smoothed</th>\n",
       "      <th>total_deaths</th>\n",
       "      <th>new_deaths</th>\n",
       "      <th>new_deaths_smoothed</th>\n",
       "      <th>...</th>\n",
       "      <th>gdp_per_capita</th>\n",
       "      <th>extreme_poverty</th>\n",
       "      <th>cardiovasc_death_rate</th>\n",
       "      <th>diabetes_prevalence</th>\n",
       "      <th>female_smokers</th>\n",
       "      <th>male_smokers</th>\n",
       "      <th>handwashing_facilities</th>\n",
       "      <th>hospital_beds_per_thousand</th>\n",
       "      <th>life_expectancy</th>\n",
       "      <th>human_development_index</th>\n",
       "    </tr>\n",
       "  </thead>\n",
       "  <tbody>\n",
       "    <tr>\n",
       "      <th>0</th>\n",
       "      <td>AFG</td>\n",
       "      <td>Asia</td>\n",
       "      <td>Afghanistan</td>\n",
       "      <td>31/12/19</td>\n",
       "      <td>NaN</td>\n",
       "      <td>0.0</td>\n",
       "      <td>NaN</td>\n",
       "      <td>NaN</td>\n",
       "      <td>0.0</td>\n",
       "      <td>NaN</td>\n",
       "      <td>...</td>\n",
       "      <td>1803.987</td>\n",
       "      <td>NaN</td>\n",
       "      <td>597.029</td>\n",
       "      <td>9.59</td>\n",
       "      <td>NaN</td>\n",
       "      <td>NaN</td>\n",
       "      <td>37.746</td>\n",
       "      <td>0.5</td>\n",
       "      <td>64.83</td>\n",
       "      <td>0.498</td>\n",
       "    </tr>\n",
       "    <tr>\n",
       "      <th>1</th>\n",
       "      <td>AFG</td>\n",
       "      <td>Asia</td>\n",
       "      <td>Afghanistan</td>\n",
       "      <td>01/01/20</td>\n",
       "      <td>NaN</td>\n",
       "      <td>0.0</td>\n",
       "      <td>NaN</td>\n",
       "      <td>NaN</td>\n",
       "      <td>0.0</td>\n",
       "      <td>NaN</td>\n",
       "      <td>...</td>\n",
       "      <td>1803.987</td>\n",
       "      <td>NaN</td>\n",
       "      <td>597.029</td>\n",
       "      <td>9.59</td>\n",
       "      <td>NaN</td>\n",
       "      <td>NaN</td>\n",
       "      <td>37.746</td>\n",
       "      <td>0.5</td>\n",
       "      <td>64.83</td>\n",
       "      <td>0.498</td>\n",
       "    </tr>\n",
       "    <tr>\n",
       "      <th>2</th>\n",
       "      <td>AFG</td>\n",
       "      <td>Asia</td>\n",
       "      <td>Afghanistan</td>\n",
       "      <td>02/01/20</td>\n",
       "      <td>NaN</td>\n",
       "      <td>0.0</td>\n",
       "      <td>NaN</td>\n",
       "      <td>NaN</td>\n",
       "      <td>0.0</td>\n",
       "      <td>NaN</td>\n",
       "      <td>...</td>\n",
       "      <td>1803.987</td>\n",
       "      <td>NaN</td>\n",
       "      <td>597.029</td>\n",
       "      <td>9.59</td>\n",
       "      <td>NaN</td>\n",
       "      <td>NaN</td>\n",
       "      <td>37.746</td>\n",
       "      <td>0.5</td>\n",
       "      <td>64.83</td>\n",
       "      <td>0.498</td>\n",
       "    </tr>\n",
       "    <tr>\n",
       "      <th>3</th>\n",
       "      <td>AFG</td>\n",
       "      <td>Asia</td>\n",
       "      <td>Afghanistan</td>\n",
       "      <td>03/01/20</td>\n",
       "      <td>NaN</td>\n",
       "      <td>0.0</td>\n",
       "      <td>NaN</td>\n",
       "      <td>NaN</td>\n",
       "      <td>0.0</td>\n",
       "      <td>NaN</td>\n",
       "      <td>...</td>\n",
       "      <td>1803.987</td>\n",
       "      <td>NaN</td>\n",
       "      <td>597.029</td>\n",
       "      <td>9.59</td>\n",
       "      <td>NaN</td>\n",
       "      <td>NaN</td>\n",
       "      <td>37.746</td>\n",
       "      <td>0.5</td>\n",
       "      <td>64.83</td>\n",
       "      <td>0.498</td>\n",
       "    </tr>\n",
       "    <tr>\n",
       "      <th>4</th>\n",
       "      <td>AFG</td>\n",
       "      <td>Asia</td>\n",
       "      <td>Afghanistan</td>\n",
       "      <td>04/01/20</td>\n",
       "      <td>NaN</td>\n",
       "      <td>0.0</td>\n",
       "      <td>NaN</td>\n",
       "      <td>NaN</td>\n",
       "      <td>0.0</td>\n",
       "      <td>NaN</td>\n",
       "      <td>...</td>\n",
       "      <td>1803.987</td>\n",
       "      <td>NaN</td>\n",
       "      <td>597.029</td>\n",
       "      <td>9.59</td>\n",
       "      <td>NaN</td>\n",
       "      <td>NaN</td>\n",
       "      <td>37.746</td>\n",
       "      <td>0.5</td>\n",
       "      <td>64.83</td>\n",
       "      <td>0.498</td>\n",
       "    </tr>\n",
       "  </tbody>\n",
       "</table>\n",
       "<p>5 rows × 49 columns</p>\n",
       "</div>"
      ],
      "text/plain": [
       "  iso_code continent     location      date  total_cases  new_cases  \\\n",
       "0      AFG      Asia  Afghanistan  31/12/19          NaN        0.0   \n",
       "1      AFG      Asia  Afghanistan  01/01/20          NaN        0.0   \n",
       "2      AFG      Asia  Afghanistan  02/01/20          NaN        0.0   \n",
       "3      AFG      Asia  Afghanistan  03/01/20          NaN        0.0   \n",
       "4      AFG      Asia  Afghanistan  04/01/20          NaN        0.0   \n",
       "\n",
       "   new_cases_smoothed  total_deaths  new_deaths  new_deaths_smoothed  ...  \\\n",
       "0                 NaN           NaN         0.0                  NaN  ...   \n",
       "1                 NaN           NaN         0.0                  NaN  ...   \n",
       "2                 NaN           NaN         0.0                  NaN  ...   \n",
       "3                 NaN           NaN         0.0                  NaN  ...   \n",
       "4                 NaN           NaN         0.0                  NaN  ...   \n",
       "\n",
       "   gdp_per_capita  extreme_poverty  cardiovasc_death_rate  \\\n",
       "0        1803.987              NaN                597.029   \n",
       "1        1803.987              NaN                597.029   \n",
       "2        1803.987              NaN                597.029   \n",
       "3        1803.987              NaN                597.029   \n",
       "4        1803.987              NaN                597.029   \n",
       "\n",
       "   diabetes_prevalence  female_smokers  male_smokers  handwashing_facilities  \\\n",
       "0                 9.59             NaN           NaN                  37.746   \n",
       "1                 9.59             NaN           NaN                  37.746   \n",
       "2                 9.59             NaN           NaN                  37.746   \n",
       "3                 9.59             NaN           NaN                  37.746   \n",
       "4                 9.59             NaN           NaN                  37.746   \n",
       "\n",
       "   hospital_beds_per_thousand  life_expectancy  human_development_index  \n",
       "0                         0.5            64.83                    0.498  \n",
       "1                         0.5            64.83                    0.498  \n",
       "2                         0.5            64.83                    0.498  \n",
       "3                         0.5            64.83                    0.498  \n",
       "4                         0.5            64.83                    0.498  \n",
       "\n",
       "[5 rows x 49 columns]"
      ]
     },
     "execution_count": 6,
     "metadata": {},
     "output_type": "execute_result"
    }
   ],
   "source": [
    "covid_data.head()"
   ]
  },
  {
   "cell_type": "code",
   "execution_count": 7,
   "metadata": {},
   "outputs": [],
   "source": [
    "pd.set_option('display.float_format', lambda x: '%.5f' % x)"
   ]
  },
  {
   "cell_type": "code",
   "execution_count": 8,
   "metadata": {},
   "outputs": [
    {
     "data": {
      "text/html": [
       "<div>\n",
       "<style scoped>\n",
       "    .dataframe tbody tr th:only-of-type {\n",
       "        vertical-align: middle;\n",
       "    }\n",
       "\n",
       "    .dataframe tbody tr th {\n",
       "        vertical-align: top;\n",
       "    }\n",
       "\n",
       "    .dataframe thead th {\n",
       "        text-align: right;\n",
       "    }\n",
       "</style>\n",
       "<table border=\"1\" class=\"dataframe\">\n",
       "  <thead>\n",
       "    <tr style=\"text-align: right;\">\n",
       "      <th></th>\n",
       "      <th>total_cases</th>\n",
       "      <th>new_cases</th>\n",
       "      <th>new_cases_smoothed</th>\n",
       "      <th>total_deaths</th>\n",
       "      <th>new_deaths</th>\n",
       "      <th>new_deaths_smoothed</th>\n",
       "      <th>total_cases_per_million</th>\n",
       "      <th>new_cases_per_million</th>\n",
       "      <th>new_cases_smoothed_per_million</th>\n",
       "      <th>total_deaths_per_million</th>\n",
       "      <th>...</th>\n",
       "      <th>gdp_per_capita</th>\n",
       "      <th>extreme_poverty</th>\n",
       "      <th>cardiovasc_death_rate</th>\n",
       "      <th>diabetes_prevalence</th>\n",
       "      <th>female_smokers</th>\n",
       "      <th>male_smokers</th>\n",
       "      <th>handwashing_facilities</th>\n",
       "      <th>hospital_beds_per_thousand</th>\n",
       "      <th>life_expectancy</th>\n",
       "      <th>human_development_index</th>\n",
       "    </tr>\n",
       "  </thead>\n",
       "  <tbody>\n",
       "    <tr>\n",
       "      <th>count</th>\n",
       "      <td>53758.00000</td>\n",
       "      <td>56465.00000</td>\n",
       "      <td>55652.00000</td>\n",
       "      <td>44368.00000</td>\n",
       "      <td>56465.00000</td>\n",
       "      <td>55652.00000</td>\n",
       "      <td>53471.00000</td>\n",
       "      <td>56401.00000</td>\n",
       "      <td>55587.00000</td>\n",
       "      <td>44096.00000</td>\n",
       "      <td>...</td>\n",
       "      <td>50367.00000</td>\n",
       "      <td>33571.00000</td>\n",
       "      <td>51013.00000</td>\n",
       "      <td>52881.00000</td>\n",
       "      <td>39669.00000</td>\n",
       "      <td>39156.00000</td>\n",
       "      <td>24176.00000</td>\n",
       "      <td>45936.00000</td>\n",
       "      <td>56336.00000</td>\n",
       "      <td>49247.00000</td>\n",
       "    </tr>\n",
       "    <tr>\n",
       "      <th>mean</th>\n",
       "      <td>167797.36888</td>\n",
       "      <td>1953.57694</td>\n",
       "      <td>1920.43195</td>\n",
       "      <td>6858.63875</td>\n",
       "      <td>47.05432</td>\n",
       "      <td>46.83544</td>\n",
       "      <td>3139.09998</td>\n",
       "      <td>39.34480</td>\n",
       "      <td>38.40321</td>\n",
       "      <td>95.33529</td>\n",
       "      <td>...</td>\n",
       "      <td>20620.17207</td>\n",
       "      <td>12.43545</td>\n",
       "      <td>252.64664</td>\n",
       "      <td>8.07027</td>\n",
       "      <td>10.74157</td>\n",
       "      <td>32.64269</td>\n",
       "      <td>52.08964</td>\n",
       "      <td>3.08972</td>\n",
       "      <td>73.93778</td>\n",
       "      <td>0.72222</td>\n",
       "    </tr>\n",
       "    <tr>\n",
       "      <th>std</th>\n",
       "      <td>1693037.54621</td>\n",
       "      <td>18269.65034</td>\n",
       "      <td>17777.39179</td>\n",
       "      <td>55780.81287</td>\n",
       "      <td>390.85378</td>\n",
       "      <td>378.27279</td>\n",
       "      <td>6183.45526</td>\n",
       "      <td>133.98515</td>\n",
       "      <td>101.64944</td>\n",
       "      <td>180.72170</td>\n",
       "      <td>...</td>\n",
       "      <td>20310.99983</td>\n",
       "      <td>19.42792</td>\n",
       "      <td>117.52234</td>\n",
       "      <td>4.18961</td>\n",
       "      <td>10.47074</td>\n",
       "      <td>13.45357</td>\n",
       "      <td>31.64531</td>\n",
       "      <td>2.51319</td>\n",
       "      <td>7.39702</td>\n",
       "      <td>0.15326</td>\n",
       "    </tr>\n",
       "    <tr>\n",
       "      <th>min</th>\n",
       "      <td>1.00000</td>\n",
       "      <td>-8261.00000</td>\n",
       "      <td>-552.00000</td>\n",
       "      <td>1.00000</td>\n",
       "      <td>-1918.00000</td>\n",
       "      <td>-232.14300</td>\n",
       "      <td>0.00100</td>\n",
       "      <td>-2212.54500</td>\n",
       "      <td>-269.97800</td>\n",
       "      <td>0.00000</td>\n",
       "      <td>...</td>\n",
       "      <td>661.24000</td>\n",
       "      <td>0.10000</td>\n",
       "      <td>79.37000</td>\n",
       "      <td>0.99000</td>\n",
       "      <td>0.10000</td>\n",
       "      <td>7.70000</td>\n",
       "      <td>1.18800</td>\n",
       "      <td>0.10000</td>\n",
       "      <td>53.28000</td>\n",
       "      <td>0.35400</td>\n",
       "    </tr>\n",
       "    <tr>\n",
       "      <th>25%</th>\n",
       "      <td>180.00000</td>\n",
       "      <td>0.00000</td>\n",
       "      <td>0.85700</td>\n",
       "      <td>13.00000</td>\n",
       "      <td>0.00000</td>\n",
       "      <td>0.00000</td>\n",
       "      <td>90.03300</td>\n",
       "      <td>0.00000</td>\n",
       "      <td>0.26000</td>\n",
       "      <td>3.97775</td>\n",
       "      <td>...</td>\n",
       "      <td>5321.44400</td>\n",
       "      <td>0.50000</td>\n",
       "      <td>156.13900</td>\n",
       "      <td>5.31000</td>\n",
       "      <td>1.90000</td>\n",
       "      <td>21.40000</td>\n",
       "      <td>21.22200</td>\n",
       "      <td>1.30000</td>\n",
       "      <td>69.87000</td>\n",
       "      <td>0.60100</td>\n",
       "    </tr>\n",
       "    <tr>\n",
       "      <th>50%</th>\n",
       "      <td>2070.00000</td>\n",
       "      <td>14.00000</td>\n",
       "      <td>19.42900</td>\n",
       "      <td>84.00000</td>\n",
       "      <td>0.00000</td>\n",
       "      <td>0.28600</td>\n",
       "      <td>593.66300</td>\n",
       "      <td>2.19400</td>\n",
       "      <td>3.86300</td>\n",
       "      <td>20.38300</td>\n",
       "      <td>...</td>\n",
       "      <td>13913.83900</td>\n",
       "      <td>2.00000</td>\n",
       "      <td>238.33900</td>\n",
       "      <td>7.11000</td>\n",
       "      <td>6.40000</td>\n",
       "      <td>31.40000</td>\n",
       "      <td>52.23200</td>\n",
       "      <td>2.50000</td>\n",
       "      <td>75.34500</td>\n",
       "      <td>0.75200</td>\n",
       "    </tr>\n",
       "    <tr>\n",
       "      <th>75%</th>\n",
       "      <td>22356.75000</td>\n",
       "      <td>235.00000</td>\n",
       "      <td>245.28600</td>\n",
       "      <td>727.00000</td>\n",
       "      <td>4.00000</td>\n",
       "      <td>4.00000</td>\n",
       "      <td>3487.05000</td>\n",
       "      <td>25.94100</td>\n",
       "      <td>29.67850</td>\n",
       "      <td>90.57125</td>\n",
       "      <td>...</td>\n",
       "      <td>31400.84000</td>\n",
       "      <td>18.10000</td>\n",
       "      <td>318.99100</td>\n",
       "      <td>10.39000</td>\n",
       "      <td>19.60000</td>\n",
       "      <td>40.90000</td>\n",
       "      <td>83.74100</td>\n",
       "      <td>4.20000</td>\n",
       "      <td>79.38000</td>\n",
       "      <td>0.84700</td>\n",
       "    </tr>\n",
       "    <tr>\n",
       "      <th>max</th>\n",
       "      <td>55154651.00000</td>\n",
       "      <td>646281.00000</td>\n",
       "      <td>584981.85700</td>\n",
       "      <td>1328537.00000</td>\n",
       "      <td>10600.00000</td>\n",
       "      <td>9027.71400</td>\n",
       "      <td>76541.77200</td>\n",
       "      <td>8652.65800</td>\n",
       "      <td>2472.18800</td>\n",
       "      <td>1248.01400</td>\n",
       "      <td>...</td>\n",
       "      <td>116935.60000</td>\n",
       "      <td>77.60000</td>\n",
       "      <td>724.41700</td>\n",
       "      <td>30.53000</td>\n",
       "      <td>44.00000</td>\n",
       "      <td>78.10000</td>\n",
       "      <td>98.99900</td>\n",
       "      <td>13.80000</td>\n",
       "      <td>86.75000</td>\n",
       "      <td>0.95300</td>\n",
       "    </tr>\n",
       "  </tbody>\n",
       "</table>\n",
       "<p>8 rows × 45 columns</p>\n",
       "</div>"
      ],
      "text/plain": [
       "         total_cases    new_cases  new_cases_smoothed  total_deaths  \\\n",
       "count    53758.00000  56465.00000         55652.00000   44368.00000   \n",
       "mean    167797.36888   1953.57694          1920.43195    6858.63875   \n",
       "std    1693037.54621  18269.65034         17777.39179   55780.81287   \n",
       "min          1.00000  -8261.00000          -552.00000       1.00000   \n",
       "25%        180.00000      0.00000             0.85700      13.00000   \n",
       "50%       2070.00000     14.00000            19.42900      84.00000   \n",
       "75%      22356.75000    235.00000           245.28600     727.00000   \n",
       "max   55154651.00000 646281.00000        584981.85700 1328537.00000   \n",
       "\n",
       "       new_deaths  new_deaths_smoothed  total_cases_per_million  \\\n",
       "count 56465.00000          55652.00000              53471.00000   \n",
       "mean     47.05432             46.83544               3139.09998   \n",
       "std     390.85378            378.27279               6183.45526   \n",
       "min   -1918.00000           -232.14300                  0.00100   \n",
       "25%       0.00000              0.00000                 90.03300   \n",
       "50%       0.00000              0.28600                593.66300   \n",
       "75%       4.00000              4.00000               3487.05000   \n",
       "max   10600.00000           9027.71400              76541.77200   \n",
       "\n",
       "       new_cases_per_million  new_cases_smoothed_per_million  \\\n",
       "count            56401.00000                     55587.00000   \n",
       "mean                39.34480                        38.40321   \n",
       "std                133.98515                       101.64944   \n",
       "min              -2212.54500                      -269.97800   \n",
       "25%                  0.00000                         0.26000   \n",
       "50%                  2.19400                         3.86300   \n",
       "75%                 25.94100                        29.67850   \n",
       "max               8652.65800                      2472.18800   \n",
       "\n",
       "       total_deaths_per_million  ...  gdp_per_capita  extreme_poverty  \\\n",
       "count               44096.00000  ...     50367.00000      33571.00000   \n",
       "mean                   95.33529  ...     20620.17207         12.43545   \n",
       "std                   180.72170  ...     20310.99983         19.42792   \n",
       "min                     0.00000  ...       661.24000          0.10000   \n",
       "25%                     3.97775  ...      5321.44400          0.50000   \n",
       "50%                    20.38300  ...     13913.83900          2.00000   \n",
       "75%                    90.57125  ...     31400.84000         18.10000   \n",
       "max                  1248.01400  ...    116935.60000         77.60000   \n",
       "\n",
       "       cardiovasc_death_rate  diabetes_prevalence  female_smokers  \\\n",
       "count            51013.00000          52881.00000     39669.00000   \n",
       "mean               252.64664              8.07027        10.74157   \n",
       "std                117.52234              4.18961        10.47074   \n",
       "min                 79.37000              0.99000         0.10000   \n",
       "25%                156.13900              5.31000         1.90000   \n",
       "50%                238.33900              7.11000         6.40000   \n",
       "75%                318.99100             10.39000        19.60000   \n",
       "max                724.41700             30.53000        44.00000   \n",
       "\n",
       "       male_smokers  handwashing_facilities  hospital_beds_per_thousand  \\\n",
       "count   39156.00000             24176.00000                 45936.00000   \n",
       "mean       32.64269                52.08964                     3.08972   \n",
       "std        13.45357                31.64531                     2.51319   \n",
       "min         7.70000                 1.18800                     0.10000   \n",
       "25%        21.40000                21.22200                     1.30000   \n",
       "50%        31.40000                52.23200                     2.50000   \n",
       "75%        40.90000                83.74100                     4.20000   \n",
       "max        78.10000                98.99900                    13.80000   \n",
       "\n",
       "       life_expectancy  human_development_index  \n",
       "count      56336.00000              49247.00000  \n",
       "mean          73.93778                  0.72222  \n",
       "std            7.39702                  0.15326  \n",
       "min           53.28000                  0.35400  \n",
       "25%           69.87000                  0.60100  \n",
       "50%           75.34500                  0.75200  \n",
       "75%           79.38000                  0.84700  \n",
       "max           86.75000                  0.95300  \n",
       "\n",
       "[8 rows x 45 columns]"
      ]
     },
     "execution_count": 8,
     "metadata": {},
     "output_type": "execute_result"
    }
   ],
   "source": [
    "covid_data.describe()"
   ]
  },
  {
   "cell_type": "code",
   "execution_count": 9,
   "metadata": {},
   "outputs": [
    {
     "data": {
      "text/plain": [
       "216"
      ]
     },
     "execution_count": 9,
     "metadata": {},
     "output_type": "execute_result"
    }
   ],
   "source": [
    "#count of unique values in location column.\n",
    "covid_data['location'].nunique()"
   ]
  },
  {
   "cell_type": "code",
   "execution_count": 10,
   "metadata": {},
   "outputs": [
    {
     "data": {
      "text/plain": [
       "Kuwait               323\n",
       "Japan                323\n",
       "Lebanon              323\n",
       "San Marino           323\n",
       "Czech Republic       323\n",
       "                    ... \n",
       "Hong Kong             72\n",
       "Solomon Islands       33\n",
       "Wallis and Futuna     32\n",
       "Marshall Islands      20\n",
       "Vanuatu                7\n",
       "Name: location, Length: 216, dtype: int64"
      ]
     },
     "execution_count": 10,
     "metadata": {},
     "output_type": "execute_result"
    }
   ],
   "source": [
    "covid_data['location'].value_counts()"
   ]
  },
  {
   "cell_type": "code",
   "execution_count": 11,
   "metadata": {},
   "outputs": [
    {
     "data": {
      "text/plain": [
       "55154651.0"
      ]
     },
     "execution_count": 11,
     "metadata": {},
     "output_type": "execute_result"
    }
   ],
   "source": [
    "covid_data['total_cases'].max()"
   ]
  },
  {
   "cell_type": "code",
   "execution_count": 12,
   "metadata": {},
   "outputs": [
    {
     "data": {
      "text/plain": [
       "167797.3688753302"
      ]
     },
     "execution_count": 12,
     "metadata": {},
     "output_type": "execute_result"
    }
   ],
   "source": [
    "covid_data['total_cases'].mean()"
   ]
  },
  {
   "cell_type": "code",
   "execution_count": 13,
   "metadata": {},
   "outputs": [
    {
     "name": "stdout",
     "output_type": "stream",
     "text": [
      "TotalDeaths 1st Quartile: 13.0\n"
     ]
    }
   ],
   "source": [
    "print('TotalDeaths 1st Quartile:',covid_data['total_deaths'].quantile(0.25))"
   ]
  },
  {
   "cell_type": "code",
   "execution_count": 14,
   "metadata": {},
   "outputs": [
    {
     "name": "stdout",
     "output_type": "stream",
     "text": [
      "TotalDeaths 2nd Quartile: 84.0\n"
     ]
    }
   ],
   "source": [
    "print('TotalDeaths 2nd Quartile:',covid_data['total_deaths'].quantile(0.5))"
   ]
  },
  {
   "cell_type": "code",
   "execution_count": 15,
   "metadata": {},
   "outputs": [
    {
     "name": "stdout",
     "output_type": "stream",
     "text": [
      "TotalDeaths 3rd Quartile: 727.0\n"
     ]
    }
   ],
   "source": [
    "print('TotalDeaths 3rd Quartile:',covid_data['total_deaths'].quantile(0.75))"
   ]
  },
  {
   "cell_type": "code",
   "execution_count": 16,
   "metadata": {},
   "outputs": [
    {
     "data": {
      "text/plain": [
       "continent\n",
       "Europe          0.95300\n",
       "Oceania         0.93900\n",
       "Asia            0.93300\n",
       "North America   0.92600\n",
       "South America   0.84300\n",
       "Africa          0.79700\n",
       "Name: human_development_index, dtype: float64"
      ]
     },
     "execution_count": 16,
     "metadata": {},
     "output_type": "execute_result"
    }
   ],
   "source": [
    "covid_data.groupby('continent')['human_development_index'].max().sort_values(ascending=False)"
   ]
  },
  {
   "cell_type": "code",
   "execution_count": 17,
   "metadata": {},
   "outputs": [
    {
     "data": {
      "text/plain": [
       "continent\n",
       "Europe          0.86858\n",
       "Oceania         0.79343\n",
       "South America   0.75143\n",
       "North America   0.75082\n",
       "Asia            0.73166\n",
       "Africa          0.54780\n",
       "Name: human_development_index, dtype: float64"
      ]
     },
     "execution_count": 17,
     "metadata": {},
     "output_type": "execute_result"
    }
   ],
   "source": [
    "covid_data.groupby('continent')['human_development_index'].mean().sort_values(ascending=False)"
   ]
  },
  {
   "cell_type": "code",
   "execution_count": 18,
   "metadata": {},
   "outputs": [
    {
     "data": {
      "text/plain": [
       "continent\n",
       "Africa           661.24000\n",
       "Asia            1479.14700\n",
       "North America   1653.17300\n",
       "Oceania         2205.92300\n",
       "Europe          5189.97200\n",
       "South America   6885.82900\n",
       "Name: gdp_per_capita, dtype: float64"
      ]
     },
     "execution_count": 18,
     "metadata": {},
     "output_type": "execute_result"
    }
   ],
   "source": [
    "# Find which continent has minimum 'gdp_per_capita'.\n",
    "covid_data.groupby('continent')['gdp_per_capita'].min().sort_values()"
   ]
  },
  {
   "cell_type": "code",
   "execution_count": 19,
   "metadata": {},
   "outputs": [],
   "source": [
    "covid19_data = covid_data.filter(['continent','location','date','total_cases','total_deaths','gdp_per_capita','human_development_index']) "
   ]
  },
  {
   "cell_type": "code",
   "execution_count": 20,
   "metadata": {},
   "outputs": [
    {
     "data": {
      "text/plain": [
       "continent                  0\n",
       "location                   0\n",
       "date                       0\n",
       "total_cases                0\n",
       "total_deaths               0\n",
       "gdp_per_capita             0\n",
       "human_development_index    0\n",
       "dtype: int64"
      ]
     },
     "execution_count": 20,
     "metadata": {},
     "output_type": "execute_result"
    }
   ],
   "source": [
    "covid19_data[covid19_data.duplicated()==True].count()"
   ]
  },
  {
   "cell_type": "code",
   "execution_count": 21,
   "metadata": {},
   "outputs": [
    {
     "data": {
      "text/html": [
       "<div>\n",
       "<style scoped>\n",
       "    .dataframe tbody tr th:only-of-type {\n",
       "        vertical-align: middle;\n",
       "    }\n",
       "\n",
       "    .dataframe tbody tr th {\n",
       "        vertical-align: top;\n",
       "    }\n",
       "\n",
       "    .dataframe thead th {\n",
       "        text-align: right;\n",
       "    }\n",
       "</style>\n",
       "<table border=\"1\" class=\"dataframe\">\n",
       "  <thead>\n",
       "    <tr style=\"text-align: right;\">\n",
       "      <th></th>\n",
       "      <th>continent</th>\n",
       "      <th>location</th>\n",
       "      <th>date</th>\n",
       "      <th>total_cases</th>\n",
       "      <th>total_deaths</th>\n",
       "      <th>gdp_per_capita</th>\n",
       "      <th>human_development_index</th>\n",
       "    </tr>\n",
       "  </thead>\n",
       "  <tbody>\n",
       "    <tr>\n",
       "      <th>0</th>\n",
       "      <td>Asia</td>\n",
       "      <td>Afghanistan</td>\n",
       "      <td>31/12/19</td>\n",
       "      <td>nan</td>\n",
       "      <td>nan</td>\n",
       "      <td>1803.98700</td>\n",
       "      <td>0.49800</td>\n",
       "    </tr>\n",
       "    <tr>\n",
       "      <th>1</th>\n",
       "      <td>Asia</td>\n",
       "      <td>Afghanistan</td>\n",
       "      <td>01/01/20</td>\n",
       "      <td>nan</td>\n",
       "      <td>nan</td>\n",
       "      <td>1803.98700</td>\n",
       "      <td>0.49800</td>\n",
       "    </tr>\n",
       "    <tr>\n",
       "      <th>2</th>\n",
       "      <td>Asia</td>\n",
       "      <td>Afghanistan</td>\n",
       "      <td>02/01/20</td>\n",
       "      <td>nan</td>\n",
       "      <td>nan</td>\n",
       "      <td>1803.98700</td>\n",
       "      <td>0.49800</td>\n",
       "    </tr>\n",
       "    <tr>\n",
       "      <th>3</th>\n",
       "      <td>Asia</td>\n",
       "      <td>Afghanistan</td>\n",
       "      <td>03/01/20</td>\n",
       "      <td>nan</td>\n",
       "      <td>nan</td>\n",
       "      <td>1803.98700</td>\n",
       "      <td>0.49800</td>\n",
       "    </tr>\n",
       "    <tr>\n",
       "      <th>4</th>\n",
       "      <td>Asia</td>\n",
       "      <td>Afghanistan</td>\n",
       "      <td>04/01/20</td>\n",
       "      <td>nan</td>\n",
       "      <td>nan</td>\n",
       "      <td>1803.98700</td>\n",
       "      <td>0.49800</td>\n",
       "    </tr>\n",
       "    <tr>\n",
       "      <th>...</th>\n",
       "      <td>...</td>\n",
       "      <td>...</td>\n",
       "      <td>...</td>\n",
       "      <td>...</td>\n",
       "      <td>...</td>\n",
       "      <td>...</td>\n",
       "      <td>...</td>\n",
       "    </tr>\n",
       "    <tr>\n",
       "      <th>57389</th>\n",
       "      <td>NaN</td>\n",
       "      <td>International</td>\n",
       "      <td>13/11/20</td>\n",
       "      <td>696.00000</td>\n",
       "      <td>7.00000</td>\n",
       "      <td>nan</td>\n",
       "      <td>nan</td>\n",
       "    </tr>\n",
       "    <tr>\n",
       "      <th>57390</th>\n",
       "      <td>NaN</td>\n",
       "      <td>International</td>\n",
       "      <td>14/11/20</td>\n",
       "      <td>696.00000</td>\n",
       "      <td>7.00000</td>\n",
       "      <td>nan</td>\n",
       "      <td>nan</td>\n",
       "    </tr>\n",
       "    <tr>\n",
       "      <th>57391</th>\n",
       "      <td>NaN</td>\n",
       "      <td>International</td>\n",
       "      <td>15/11/20</td>\n",
       "      <td>696.00000</td>\n",
       "      <td>7.00000</td>\n",
       "      <td>nan</td>\n",
       "      <td>nan</td>\n",
       "    </tr>\n",
       "    <tr>\n",
       "      <th>57392</th>\n",
       "      <td>NaN</td>\n",
       "      <td>International</td>\n",
       "      <td>16/11/20</td>\n",
       "      <td>696.00000</td>\n",
       "      <td>7.00000</td>\n",
       "      <td>nan</td>\n",
       "      <td>nan</td>\n",
       "    </tr>\n",
       "    <tr>\n",
       "      <th>57393</th>\n",
       "      <td>NaN</td>\n",
       "      <td>International</td>\n",
       "      <td>17/11/20</td>\n",
       "      <td>696.00000</td>\n",
       "      <td>7.00000</td>\n",
       "      <td>nan</td>\n",
       "      <td>nan</td>\n",
       "    </tr>\n",
       "  </tbody>\n",
       "</table>\n",
       "<p>57394 rows × 7 columns</p>\n",
       "</div>"
      ],
      "text/plain": [
       "      continent       location      date  total_cases  total_deaths  \\\n",
       "0          Asia    Afghanistan  31/12/19          nan           nan   \n",
       "1          Asia    Afghanistan  01/01/20          nan           nan   \n",
       "2          Asia    Afghanistan  02/01/20          nan           nan   \n",
       "3          Asia    Afghanistan  03/01/20          nan           nan   \n",
       "4          Asia    Afghanistan  04/01/20          nan           nan   \n",
       "...         ...            ...       ...          ...           ...   \n",
       "57389       NaN  International  13/11/20    696.00000       7.00000   \n",
       "57390       NaN  International  14/11/20    696.00000       7.00000   \n",
       "57391       NaN  International  15/11/20    696.00000       7.00000   \n",
       "57392       NaN  International  16/11/20    696.00000       7.00000   \n",
       "57393       NaN  International  17/11/20    696.00000       7.00000   \n",
       "\n",
       "       gdp_per_capita  human_development_index  \n",
       "0          1803.98700                  0.49800  \n",
       "1          1803.98700                  0.49800  \n",
       "2          1803.98700                  0.49800  \n",
       "3          1803.98700                  0.49800  \n",
       "4          1803.98700                  0.49800  \n",
       "...               ...                      ...  \n",
       "57389             nan                      nan  \n",
       "57390             nan                      nan  \n",
       "57391             nan                      nan  \n",
       "57392             nan                      nan  \n",
       "57393             nan                      nan  \n",
       "\n",
       "[57394 rows x 7 columns]"
      ]
     },
     "execution_count": 21,
     "metadata": {},
     "output_type": "execute_result"
    }
   ],
   "source": [
    "covid19_data.drop_duplicates()"
   ]
  },
  {
   "cell_type": "code",
   "execution_count": 22,
   "metadata": {},
   "outputs": [
    {
     "data": {
      "text/plain": [
       "continent                   True\n",
       "location                   False\n",
       "date                       False\n",
       "total_cases                 True\n",
       "total_deaths                True\n",
       "gdp_per_capita              True\n",
       "human_development_index     True\n",
       "dtype: bool"
      ]
     },
     "execution_count": 22,
     "metadata": {},
     "output_type": "execute_result"
    }
   ],
   "source": [
    "covid19_data.isna().any()"
   ]
  },
  {
   "cell_type": "code",
   "execution_count": 23,
   "metadata": {},
   "outputs": [
    {
     "data": {
      "text/html": [
       "<div>\n",
       "<style scoped>\n",
       "    .dataframe tbody tr th:only-of-type {\n",
       "        vertical-align: middle;\n",
       "    }\n",
       "\n",
       "    .dataframe tbody tr th {\n",
       "        vertical-align: top;\n",
       "    }\n",
       "\n",
       "    .dataframe thead th {\n",
       "        text-align: right;\n",
       "    }\n",
       "</style>\n",
       "<table border=\"1\" class=\"dataframe\">\n",
       "  <thead>\n",
       "    <tr style=\"text-align: right;\">\n",
       "      <th></th>\n",
       "      <th>continent</th>\n",
       "      <th>location</th>\n",
       "      <th>date</th>\n",
       "      <th>total_cases</th>\n",
       "      <th>total_deaths</th>\n",
       "      <th>gdp_per_capita</th>\n",
       "      <th>human_development_index</th>\n",
       "    </tr>\n",
       "  </thead>\n",
       "  <tbody>\n",
       "    <tr>\n",
       "      <th>56748</th>\n",
       "      <td>NaN</td>\n",
       "      <td>World</td>\n",
       "      <td>31/12/19</td>\n",
       "      <td>27.00000</td>\n",
       "      <td>nan</td>\n",
       "      <td>15469.20700</td>\n",
       "      <td>nan</td>\n",
       "    </tr>\n",
       "    <tr>\n",
       "      <th>56749</th>\n",
       "      <td>NaN</td>\n",
       "      <td>World</td>\n",
       "      <td>01/01/20</td>\n",
       "      <td>27.00000</td>\n",
       "      <td>nan</td>\n",
       "      <td>15469.20700</td>\n",
       "      <td>nan</td>\n",
       "    </tr>\n",
       "    <tr>\n",
       "      <th>56750</th>\n",
       "      <td>NaN</td>\n",
       "      <td>World</td>\n",
       "      <td>02/01/20</td>\n",
       "      <td>27.00000</td>\n",
       "      <td>nan</td>\n",
       "      <td>15469.20700</td>\n",
       "      <td>nan</td>\n",
       "    </tr>\n",
       "    <tr>\n",
       "      <th>56751</th>\n",
       "      <td>NaN</td>\n",
       "      <td>World</td>\n",
       "      <td>03/01/20</td>\n",
       "      <td>44.00000</td>\n",
       "      <td>nan</td>\n",
       "      <td>15469.20700</td>\n",
       "      <td>nan</td>\n",
       "    </tr>\n",
       "    <tr>\n",
       "      <th>56752</th>\n",
       "      <td>NaN</td>\n",
       "      <td>World</td>\n",
       "      <td>04/01/20</td>\n",
       "      <td>44.00000</td>\n",
       "      <td>nan</td>\n",
       "      <td>15469.20700</td>\n",
       "      <td>nan</td>\n",
       "    </tr>\n",
       "    <tr>\n",
       "      <th>...</th>\n",
       "      <td>...</td>\n",
       "      <td>...</td>\n",
       "      <td>...</td>\n",
       "      <td>...</td>\n",
       "      <td>...</td>\n",
       "      <td>...</td>\n",
       "      <td>...</td>\n",
       "    </tr>\n",
       "    <tr>\n",
       "      <th>57389</th>\n",
       "      <td>NaN</td>\n",
       "      <td>International</td>\n",
       "      <td>13/11/20</td>\n",
       "      <td>696.00000</td>\n",
       "      <td>7.00000</td>\n",
       "      <td>nan</td>\n",
       "      <td>nan</td>\n",
       "    </tr>\n",
       "    <tr>\n",
       "      <th>57390</th>\n",
       "      <td>NaN</td>\n",
       "      <td>International</td>\n",
       "      <td>14/11/20</td>\n",
       "      <td>696.00000</td>\n",
       "      <td>7.00000</td>\n",
       "      <td>nan</td>\n",
       "      <td>nan</td>\n",
       "    </tr>\n",
       "    <tr>\n",
       "      <th>57391</th>\n",
       "      <td>NaN</td>\n",
       "      <td>International</td>\n",
       "      <td>15/11/20</td>\n",
       "      <td>696.00000</td>\n",
       "      <td>7.00000</td>\n",
       "      <td>nan</td>\n",
       "      <td>nan</td>\n",
       "    </tr>\n",
       "    <tr>\n",
       "      <th>57392</th>\n",
       "      <td>NaN</td>\n",
       "      <td>International</td>\n",
       "      <td>16/11/20</td>\n",
       "      <td>696.00000</td>\n",
       "      <td>7.00000</td>\n",
       "      <td>nan</td>\n",
       "      <td>nan</td>\n",
       "    </tr>\n",
       "    <tr>\n",
       "      <th>57393</th>\n",
       "      <td>NaN</td>\n",
       "      <td>International</td>\n",
       "      <td>17/11/20</td>\n",
       "      <td>696.00000</td>\n",
       "      <td>7.00000</td>\n",
       "      <td>nan</td>\n",
       "      <td>nan</td>\n",
       "    </tr>\n",
       "  </tbody>\n",
       "</table>\n",
       "<p>646 rows × 7 columns</p>\n",
       "</div>"
      ],
      "text/plain": [
       "      continent       location      date  total_cases  total_deaths  \\\n",
       "56748       NaN          World  31/12/19     27.00000           nan   \n",
       "56749       NaN          World  01/01/20     27.00000           nan   \n",
       "56750       NaN          World  02/01/20     27.00000           nan   \n",
       "56751       NaN          World  03/01/20     44.00000           nan   \n",
       "56752       NaN          World  04/01/20     44.00000           nan   \n",
       "...         ...            ...       ...          ...           ...   \n",
       "57389       NaN  International  13/11/20    696.00000       7.00000   \n",
       "57390       NaN  International  14/11/20    696.00000       7.00000   \n",
       "57391       NaN  International  15/11/20    696.00000       7.00000   \n",
       "57392       NaN  International  16/11/20    696.00000       7.00000   \n",
       "57393       NaN  International  17/11/20    696.00000       7.00000   \n",
       "\n",
       "       gdp_per_capita  human_development_index  \n",
       "56748     15469.20700                      nan  \n",
       "56749     15469.20700                      nan  \n",
       "56750     15469.20700                      nan  \n",
       "56751     15469.20700                      nan  \n",
       "56752     15469.20700                      nan  \n",
       "...               ...                      ...  \n",
       "57389             nan                      nan  \n",
       "57390             nan                      nan  \n",
       "57391             nan                      nan  \n",
       "57392             nan                      nan  \n",
       "57393             nan                      nan  \n",
       "\n",
       "[646 rows x 7 columns]"
      ]
     },
     "execution_count": 23,
     "metadata": {},
     "output_type": "execute_result"
    }
   ],
   "source": [
    "covid19_data[covid19_data['continent'].isna()]"
   ]
  },
  {
   "cell_type": "code",
   "execution_count": 24,
   "metadata": {},
   "outputs": [],
   "source": [
    "covid19_data.dropna(subset=['continent'],inplace=True)"
   ]
  },
  {
   "cell_type": "code",
   "execution_count": 25,
   "metadata": {},
   "outputs": [],
   "source": [
    "covid19_data=covid19_data.fillna(0)"
   ]
  },
  {
   "cell_type": "code",
   "execution_count": 26,
   "metadata": {},
   "outputs": [
    {
     "data": {
      "text/plain": [
       "continent                  False\n",
       "location                   False\n",
       "date                       False\n",
       "total_cases                False\n",
       "total_deaths               False\n",
       "gdp_per_capita             False\n",
       "human_development_index    False\n",
       "dtype: bool"
      ]
     },
     "execution_count": 26,
     "metadata": {},
     "output_type": "execute_result"
    }
   ],
   "source": [
    "covid19_data.isna().any()"
   ]
  },
  {
   "cell_type": "code",
   "execution_count": 27,
   "metadata": {},
   "outputs": [
    {
     "name": "stdout",
     "output_type": "stream",
     "text": [
      "<class 'pandas.core.frame.DataFrame'>\n",
      "Int64Index: 56748 entries, 0 to 56747\n",
      "Data columns (total 7 columns):\n",
      " #   Column                   Non-Null Count  Dtype  \n",
      "---  ------                   --------------  -----  \n",
      " 0   continent                56748 non-null  object \n",
      " 1   location                 56748 non-null  object \n",
      " 2   date                     56748 non-null  object \n",
      " 3   total_cases              56748 non-null  float64\n",
      " 4   total_deaths             56748 non-null  float64\n",
      " 5   gdp_per_capita           56748 non-null  float64\n",
      " 6   human_development_index  56748 non-null  float64\n",
      "dtypes: float64(4), object(3)\n",
      "memory usage: 3.5+ MB\n"
     ]
    }
   ],
   "source": [
    "covid19_data.info()"
   ]
  },
  {
   "cell_type": "code",
   "execution_count": 28,
   "metadata": {},
   "outputs": [],
   "source": [
    "covid19_data.date = pd.to_datetime(covid19_data.date)"
   ]
  },
  {
   "cell_type": "code",
   "execution_count": 29,
   "metadata": {},
   "outputs": [
    {
     "name": "stdout",
     "output_type": "stream",
     "text": [
      "<class 'pandas.core.frame.DataFrame'>\n",
      "Int64Index: 56748 entries, 0 to 56747\n",
      "Data columns (total 7 columns):\n",
      " #   Column                   Non-Null Count  Dtype         \n",
      "---  ------                   --------------  -----         \n",
      " 0   continent                56748 non-null  object        \n",
      " 1   location                 56748 non-null  object        \n",
      " 2   date                     56748 non-null  datetime64[ns]\n",
      " 3   total_cases              56748 non-null  float64       \n",
      " 4   total_deaths             56748 non-null  float64       \n",
      " 5   gdp_per_capita           56748 non-null  float64       \n",
      " 6   human_development_index  56748 non-null  float64       \n",
      "dtypes: datetime64[ns](1), float64(4), object(2)\n",
      "memory usage: 3.5+ MB\n"
     ]
    }
   ],
   "source": [
    "covid19_data.info()"
   ]
  },
  {
   "cell_type": "code",
   "execution_count": 30,
   "metadata": {},
   "outputs": [],
   "source": [
    "covid19_data['Month'] = covid19_data.date.dt.month"
   ]
  },
  {
   "cell_type": "code",
   "execution_count": 31,
   "metadata": {},
   "outputs": [
    {
     "data": {
      "text/html": [
       "<div>\n",
       "<style scoped>\n",
       "    .dataframe tbody tr th:only-of-type {\n",
       "        vertical-align: middle;\n",
       "    }\n",
       "\n",
       "    .dataframe tbody tr th {\n",
       "        vertical-align: top;\n",
       "    }\n",
       "\n",
       "    .dataframe thead th {\n",
       "        text-align: right;\n",
       "    }\n",
       "</style>\n",
       "<table border=\"1\" class=\"dataframe\">\n",
       "  <thead>\n",
       "    <tr style=\"text-align: right;\">\n",
       "      <th></th>\n",
       "      <th>continent</th>\n",
       "      <th>location</th>\n",
       "      <th>date</th>\n",
       "      <th>total_cases</th>\n",
       "      <th>total_deaths</th>\n",
       "      <th>gdp_per_capita</th>\n",
       "      <th>human_development_index</th>\n",
       "      <th>Month</th>\n",
       "    </tr>\n",
       "  </thead>\n",
       "  <tbody>\n",
       "    <tr>\n",
       "      <th>0</th>\n",
       "      <td>Asia</td>\n",
       "      <td>Afghanistan</td>\n",
       "      <td>2019-12-31</td>\n",
       "      <td>0.00000</td>\n",
       "      <td>0.00000</td>\n",
       "      <td>1803.98700</td>\n",
       "      <td>0.49800</td>\n",
       "      <td>12</td>\n",
       "    </tr>\n",
       "    <tr>\n",
       "      <th>1</th>\n",
       "      <td>Asia</td>\n",
       "      <td>Afghanistan</td>\n",
       "      <td>2020-01-01</td>\n",
       "      <td>0.00000</td>\n",
       "      <td>0.00000</td>\n",
       "      <td>1803.98700</td>\n",
       "      <td>0.49800</td>\n",
       "      <td>1</td>\n",
       "    </tr>\n",
       "    <tr>\n",
       "      <th>2</th>\n",
       "      <td>Asia</td>\n",
       "      <td>Afghanistan</td>\n",
       "      <td>2020-02-01</td>\n",
       "      <td>0.00000</td>\n",
       "      <td>0.00000</td>\n",
       "      <td>1803.98700</td>\n",
       "      <td>0.49800</td>\n",
       "      <td>2</td>\n",
       "    </tr>\n",
       "    <tr>\n",
       "      <th>3</th>\n",
       "      <td>Asia</td>\n",
       "      <td>Afghanistan</td>\n",
       "      <td>2020-03-01</td>\n",
       "      <td>0.00000</td>\n",
       "      <td>0.00000</td>\n",
       "      <td>1803.98700</td>\n",
       "      <td>0.49800</td>\n",
       "      <td>3</td>\n",
       "    </tr>\n",
       "    <tr>\n",
       "      <th>4</th>\n",
       "      <td>Asia</td>\n",
       "      <td>Afghanistan</td>\n",
       "      <td>2020-04-01</td>\n",
       "      <td>0.00000</td>\n",
       "      <td>0.00000</td>\n",
       "      <td>1803.98700</td>\n",
       "      <td>0.49800</td>\n",
       "      <td>4</td>\n",
       "    </tr>\n",
       "  </tbody>\n",
       "</table>\n",
       "</div>"
      ],
      "text/plain": [
       "  continent     location       date  total_cases  total_deaths  \\\n",
       "0      Asia  Afghanistan 2019-12-31      0.00000       0.00000   \n",
       "1      Asia  Afghanistan 2020-01-01      0.00000       0.00000   \n",
       "2      Asia  Afghanistan 2020-02-01      0.00000       0.00000   \n",
       "3      Asia  Afghanistan 2020-03-01      0.00000       0.00000   \n",
       "4      Asia  Afghanistan 2020-04-01      0.00000       0.00000   \n",
       "\n",
       "   gdp_per_capita  human_development_index  Month  \n",
       "0      1803.98700                  0.49800     12  \n",
       "1      1803.98700                  0.49800      1  \n",
       "2      1803.98700                  0.49800      2  \n",
       "3      1803.98700                  0.49800      3  \n",
       "4      1803.98700                  0.49800      4  "
      ]
     },
     "execution_count": 31,
     "metadata": {},
     "output_type": "execute_result"
    }
   ],
   "source": [
    "covid19_data.head()"
   ]
  },
  {
   "cell_type": "code",
   "execution_count": 32,
   "metadata": {},
   "outputs": [
    {
     "data": {
      "text/html": [
       "<div>\n",
       "<style scoped>\n",
       "    .dataframe tbody tr th:only-of-type {\n",
       "        vertical-align: middle;\n",
       "    }\n",
       "\n",
       "    .dataframe tbody tr th {\n",
       "        vertical-align: top;\n",
       "    }\n",
       "\n",
       "    .dataframe thead th {\n",
       "        text-align: right;\n",
       "    }\n",
       "</style>\n",
       "<table border=\"1\" class=\"dataframe\">\n",
       "  <thead>\n",
       "    <tr style=\"text-align: right;\">\n",
       "      <th></th>\n",
       "      <th>location</th>\n",
       "      <th>date</th>\n",
       "      <th>total_cases</th>\n",
       "      <th>total_deaths</th>\n",
       "      <th>gdp_per_capita</th>\n",
       "      <th>human_development_index</th>\n",
       "      <th>Month</th>\n",
       "    </tr>\n",
       "    <tr>\n",
       "      <th>continent</th>\n",
       "      <th></th>\n",
       "      <th></th>\n",
       "      <th></th>\n",
       "      <th></th>\n",
       "      <th></th>\n",
       "      <th></th>\n",
       "      <th></th>\n",
       "    </tr>\n",
       "  </thead>\n",
       "  <tbody>\n",
       "    <tr>\n",
       "      <th>Africa</th>\n",
       "      <td>Zimbabwe</td>\n",
       "      <td>2020-12-11</td>\n",
       "      <td>752269.00000</td>\n",
       "      <td>20314.00000</td>\n",
       "      <td>26382.28700</td>\n",
       "      <td>0.79700</td>\n",
       "      <td>12</td>\n",
       "    </tr>\n",
       "    <tr>\n",
       "      <th>Asia</th>\n",
       "      <td>Yemen</td>\n",
       "      <td>2020-12-11</td>\n",
       "      <td>8874290.00000</td>\n",
       "      <td>130519.00000</td>\n",
       "      <td>116935.60000</td>\n",
       "      <td>0.93300</td>\n",
       "      <td>12</td>\n",
       "    </tr>\n",
       "    <tr>\n",
       "      <th>Europe</th>\n",
       "      <td>Vatican</td>\n",
       "      <td>2020-12-11</td>\n",
       "      <td>1991233.00000</td>\n",
       "      <td>52147.00000</td>\n",
       "      <td>94277.96500</td>\n",
       "      <td>0.95300</td>\n",
       "      <td>12</td>\n",
       "    </tr>\n",
       "    <tr>\n",
       "      <th>North America</th>\n",
       "      <td>United States Virgin Islands</td>\n",
       "      <td>2020-12-11</td>\n",
       "      <td>11205486.00000</td>\n",
       "      <td>247220.00000</td>\n",
       "      <td>54225.44600</td>\n",
       "      <td>0.92600</td>\n",
       "      <td>12</td>\n",
       "    </tr>\n",
       "    <tr>\n",
       "      <th>Oceania</th>\n",
       "      <td>Wallis and Futuna</td>\n",
       "      <td>2020-12-11</td>\n",
       "      <td>27750.00000</td>\n",
       "      <td>907.00000</td>\n",
       "      <td>44648.71000</td>\n",
       "      <td>0.93900</td>\n",
       "      <td>12</td>\n",
       "    </tr>\n",
       "    <tr>\n",
       "      <th>South America</th>\n",
       "      <td>Venezuela</td>\n",
       "      <td>2020-12-11</td>\n",
       "      <td>5876464.00000</td>\n",
       "      <td>166014.00000</td>\n",
       "      <td>22767.03700</td>\n",
       "      <td>0.84300</td>\n",
       "      <td>12</td>\n",
       "    </tr>\n",
       "  </tbody>\n",
       "</table>\n",
       "</div>"
      ],
      "text/plain": [
       "                                   location       date    total_cases  \\\n",
       "continent                                                               \n",
       "Africa                             Zimbabwe 2020-12-11   752269.00000   \n",
       "Asia                                  Yemen 2020-12-11  8874290.00000   \n",
       "Europe                              Vatican 2020-12-11  1991233.00000   \n",
       "North America  United States Virgin Islands 2020-12-11 11205486.00000   \n",
       "Oceania                   Wallis and Futuna 2020-12-11    27750.00000   \n",
       "South America                     Venezuela 2020-12-11  5876464.00000   \n",
       "\n",
       "               total_deaths  gdp_per_capita  human_development_index  Month  \n",
       "continent                                                                    \n",
       "Africa          20314.00000     26382.28700                  0.79700     12  \n",
       "Asia           130519.00000    116935.60000                  0.93300     12  \n",
       "Europe          52147.00000     94277.96500                  0.95300     12  \n",
       "North America  247220.00000     54225.44600                  0.92600     12  \n",
       "Oceania           907.00000     44648.71000                  0.93900     12  \n",
       "South America  166014.00000     22767.03700                  0.84300     12  "
      ]
     },
     "execution_count": 32,
     "metadata": {},
     "output_type": "execute_result"
    }
   ],
   "source": [
    "covid19_data.groupby('continent').max()"
   ]
  },
  {
   "cell_type": "code",
   "execution_count": 33,
   "metadata": {},
   "outputs": [],
   "source": [
    "df_groupby=covid19_data.groupby('continent').max().reset_index()"
   ]
  },
  {
   "cell_type": "code",
   "execution_count": 34,
   "metadata": {},
   "outputs": [
    {
     "data": {
      "text/html": [
       "<div>\n",
       "<style scoped>\n",
       "    .dataframe tbody tr th:only-of-type {\n",
       "        vertical-align: middle;\n",
       "    }\n",
       "\n",
       "    .dataframe tbody tr th {\n",
       "        vertical-align: top;\n",
       "    }\n",
       "\n",
       "    .dataframe thead th {\n",
       "        text-align: right;\n",
       "    }\n",
       "</style>\n",
       "<table border=\"1\" class=\"dataframe\">\n",
       "  <thead>\n",
       "    <tr style=\"text-align: right;\">\n",
       "      <th></th>\n",
       "      <th>continent</th>\n",
       "      <th>location</th>\n",
       "      <th>date</th>\n",
       "      <th>total_cases</th>\n",
       "      <th>total_deaths</th>\n",
       "      <th>gdp_per_capita</th>\n",
       "      <th>human_development_index</th>\n",
       "      <th>Month</th>\n",
       "      <th>Total_Death_to_Total_Cases</th>\n",
       "    </tr>\n",
       "  </thead>\n",
       "  <tbody>\n",
       "    <tr>\n",
       "      <th>0</th>\n",
       "      <td>Africa</td>\n",
       "      <td>Zimbabwe</td>\n",
       "      <td>2020-12-11</td>\n",
       "      <td>752269.00000</td>\n",
       "      <td>20314.00000</td>\n",
       "      <td>26382.28700</td>\n",
       "      <td>0.79700</td>\n",
       "      <td>12</td>\n",
       "      <td>0.02700</td>\n",
       "    </tr>\n",
       "    <tr>\n",
       "      <th>1</th>\n",
       "      <td>Asia</td>\n",
       "      <td>Yemen</td>\n",
       "      <td>2020-12-11</td>\n",
       "      <td>8874290.00000</td>\n",
       "      <td>130519.00000</td>\n",
       "      <td>116935.60000</td>\n",
       "      <td>0.93300</td>\n",
       "      <td>12</td>\n",
       "      <td>0.01471</td>\n",
       "    </tr>\n",
       "    <tr>\n",
       "      <th>2</th>\n",
       "      <td>Europe</td>\n",
       "      <td>Vatican</td>\n",
       "      <td>2020-12-11</td>\n",
       "      <td>1991233.00000</td>\n",
       "      <td>52147.00000</td>\n",
       "      <td>94277.96500</td>\n",
       "      <td>0.95300</td>\n",
       "      <td>12</td>\n",
       "      <td>0.02619</td>\n",
       "    </tr>\n",
       "    <tr>\n",
       "      <th>3</th>\n",
       "      <td>North America</td>\n",
       "      <td>United States Virgin Islands</td>\n",
       "      <td>2020-12-11</td>\n",
       "      <td>11205486.00000</td>\n",
       "      <td>247220.00000</td>\n",
       "      <td>54225.44600</td>\n",
       "      <td>0.92600</td>\n",
       "      <td>12</td>\n",
       "      <td>0.02206</td>\n",
       "    </tr>\n",
       "    <tr>\n",
       "      <th>4</th>\n",
       "      <td>Oceania</td>\n",
       "      <td>Wallis and Futuna</td>\n",
       "      <td>2020-12-11</td>\n",
       "      <td>27750.00000</td>\n",
       "      <td>907.00000</td>\n",
       "      <td>44648.71000</td>\n",
       "      <td>0.93900</td>\n",
       "      <td>12</td>\n",
       "      <td>0.03268</td>\n",
       "    </tr>\n",
       "    <tr>\n",
       "      <th>5</th>\n",
       "      <td>South America</td>\n",
       "      <td>Venezuela</td>\n",
       "      <td>2020-12-11</td>\n",
       "      <td>5876464.00000</td>\n",
       "      <td>166014.00000</td>\n",
       "      <td>22767.03700</td>\n",
       "      <td>0.84300</td>\n",
       "      <td>12</td>\n",
       "      <td>0.02825</td>\n",
       "    </tr>\n",
       "  </tbody>\n",
       "</table>\n",
       "</div>"
      ],
      "text/plain": [
       "       continent                      location       date    total_cases  \\\n",
       "0         Africa                      Zimbabwe 2020-12-11   752269.00000   \n",
       "1           Asia                         Yemen 2020-12-11  8874290.00000   \n",
       "2         Europe                       Vatican 2020-12-11  1991233.00000   \n",
       "3  North America  United States Virgin Islands 2020-12-11 11205486.00000   \n",
       "4        Oceania             Wallis and Futuna 2020-12-11    27750.00000   \n",
       "5  South America                     Venezuela 2020-12-11  5876464.00000   \n",
       "\n",
       "   total_deaths  gdp_per_capita  human_development_index  Month  \\\n",
       "0   20314.00000     26382.28700                  0.79700     12   \n",
       "1  130519.00000    116935.60000                  0.93300     12   \n",
       "2   52147.00000     94277.96500                  0.95300     12   \n",
       "3  247220.00000     54225.44600                  0.92600     12   \n",
       "4     907.00000     44648.71000                  0.93900     12   \n",
       "5  166014.00000     22767.03700                  0.84300     12   \n",
       "\n",
       "   Total_Death_to_Total_Cases  \n",
       "0                     0.02700  \n",
       "1                     0.01471  \n",
       "2                     0.02619  \n",
       "3                     0.02206  \n",
       "4                     0.03268  \n",
       "5                     0.02825  "
      ]
     },
     "execution_count": 34,
     "metadata": {},
     "output_type": "execute_result"
    }
   ],
   "source": [
    "df_groupby['Total_Death_to_Total_Cases'] = df_groupby['total_deaths']/df_groupby['total_cases']\n",
    "df_groupby"
   ]
  },
  {
   "cell_type": "code",
   "execution_count": 35,
   "metadata": {},
   "outputs": [],
   "source": [
    "import matplotlib.pyplot as plt\n",
    "%matplotlib inline\n",
    "import seaborn as sns"
   ]
  },
  {
   "cell_type": "code",
   "execution_count": 36,
   "metadata": {},
   "outputs": [
    {
     "name": "stderr",
     "output_type": "stream",
     "text": [
      "c:\\users\\sanu menon\\appdata\\local\\programs\\python\\python37\\lib\\site-packages\\seaborn\\distributions.py:2551: FutureWarning: `distplot` is a deprecated function and will be removed in a future version. Please adapt your code to use either `displot` (a figure-level function with similar flexibility) or `histplot` (an axes-level function for histograms).\n",
      "  warnings.warn(msg, FutureWarning)\n"
     ]
    },
    {
     "data": {
      "text/plain": [
       "<matplotlib.axes._subplots.AxesSubplot at 0x1ee76d45a08>"
      ]
     },
     "execution_count": 36,
     "metadata": {},
     "output_type": "execute_result"
    },
    {
     "data": {
      "image/png": "[encoded data removed]",
      "text/plain": [
       "<Figure size 432x288 with 1 Axes>"
      ]
     },
     "metadata": {
      "needs_background": "light"
     },
     "output_type": "display_data"
    }
   ],
   "source": [
    "sns.distplot(df_groupby['gdp_per_capita'])"
   ]
  },
  {
   "cell_type": "code",
   "execution_count": 48,
   "metadata": {},
   "outputs": [
    {
     "data": {
      "image/png": "[encoded data removed]",
      "text/plain": [
       "<Figure size 432x432 with 3 Axes>"
      ]
     },
     "metadata": {
      "needs_background": "light"
     },
     "output_type": "display_data"
    }
   ],
   "source": [
    "sns.jointplot(data=df_groupby,x='gdp_per_capita',y='total_cases',kind='scatter')\n",
    "plt.ticklabel_format(style='plain', axis='both')"
   ]
  },
  {
   "cell_type": "code",
   "execution_count": 38,
   "metadata": {},
   "outputs": [
    {
     "data": {
      "text/plain": [
       "[Text(0, 0, '0.00K'),\n",
       " Text(0, 0, '20.00K'),\n",
       " Text(0, 0, '40.00K'),\n",
       " Text(0, 0, '60.00K'),\n",
       " Text(0, 0, '80.00K'),\n",
       " Text(0, 0, '100.00K'),\n",
       " Text(0, 0, '120.00K'),\n",
       " Text(0, 0, '140.00K')]"
      ]
     },
     "execution_count": 38,
     "metadata": {},
     "output_type": "execute_result"
    },
    {
     "data": {
      "image/png": "[encoded data removed]",
      "text/plain": [
       "<Figure size 720x360 with 1 Axes>"
      ]
     },
     "metadata": {
      "needs_background": "light"
     },
     "output_type": "display_data"
    }
   ],
   "source": [
    "plt.figure(figsize=(10,5))\n",
    "g=sns.barplot(x=df_groupby['total_cases'],y=df_groupby['gdp_per_capita'],hue=df_groupby['continent'])\n",
    "ylabels = ['{:,.2f}'.format(a) + 'K' for a in g.get_yticks()/1000]\n",
    "g.set_yticklabels(ylabels)"
   ]
  },
  {
   "cell_type": "code",
   "execution_count": 39,
   "metadata": {},
   "outputs": [
    {
     "data": {
      "text/plain": [
       "<seaborn.axisgrid.PairGrid at 0x1ee770e6308>"
      ]
     },
     "execution_count": 39,
     "metadata": {},
     "output_type": "execute_result"
    },
    {
     "data": {
      "image/png": "[encoded data removed]",
      "text/plain": [
       "<Figure size 1080x1080 with 42 Axes>"
      ]
     },
     "metadata": {
      "needs_background": "light"
     },
     "output_type": "display_data"
    }
   ],
   "source": [
    "sns.pairplot(df_groupby)"
   ]
  },
  {
   "cell_type": "code",
   "execution_count": 43,
   "metadata": {},
   "outputs": [
    {
     "data": {
      "text/plain": [
       "<seaborn.axisgrid.FacetGrid at 0x1ee74ae3288>"
      ]
     },
     "execution_count": 43,
     "metadata": {},
     "output_type": "execute_result"
    },
    {
     "data": {
      "image/png": "[encoded data removed]",
      "text/plain": [
       "<Figure size 360x360 with 1 Axes>"
      ]
     },
     "metadata": {
      "needs_background": "light"
     },
     "output_type": "display_data"
    }
   ],
   "source": [
    "sns.catplot(data=df_groupby,x='total_cases',y='continent',kind='bar')"
   ]
  },
  {
   "cell_type": "code",
   "execution_count": 41,
   "metadata": {},
   "outputs": [],
   "source": [
    "df_groupby.to_csv('E:\\DataScience\\df_groupby.csv')"
   ]
  }
 ],
 "metadata": {
  "kernelspec": {
   "display_name": "Python 3",
   "language": "python",
   "name": "python3"
  },
  "language_info": {
   "codemirror_mode": {
    "name": "ipython",
    "version": 3
   },
   "file_extension": ".py",
   "mimetype": "text/x-python",
   "name": "python",
   "nbconvert_exporter": "python",
   "pygments_lexer": "ipython3",
   "version": "3.7.6"
  }
 },
 "nbformat": 4,
 "nbformat_minor": 4
}
